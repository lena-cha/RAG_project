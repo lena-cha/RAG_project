version https://git-lfs.github.com/spec/v1
oid sha256:fba74ea86ececab966013cab36315f1a7a93ee0daa23d0aa89156cc57dad6903
size 19041
