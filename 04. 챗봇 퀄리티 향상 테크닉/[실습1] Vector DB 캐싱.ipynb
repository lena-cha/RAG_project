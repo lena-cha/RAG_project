version https://git-lfs.github.com/spec/v1
oid sha256:1df0ff104b03c1ffb81f287462cb6be4952e67a7e71bd8b74550a9c37257d9df
size 7740
