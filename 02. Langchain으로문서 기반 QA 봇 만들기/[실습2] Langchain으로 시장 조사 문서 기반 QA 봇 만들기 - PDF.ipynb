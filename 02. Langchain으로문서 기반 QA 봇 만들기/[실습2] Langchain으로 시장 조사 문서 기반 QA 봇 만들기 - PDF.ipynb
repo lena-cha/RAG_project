version https://git-lfs.github.com/spec/v1
oid sha256:105542625ab11e9b1646e4bf32ef3b5a03a495715850041f5b29e77fc48c323c
size 180195
