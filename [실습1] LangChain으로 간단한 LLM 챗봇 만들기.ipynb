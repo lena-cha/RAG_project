version https://git-lfs.github.com/spec/v1
oid sha256:168af0b90ad09e62d92eac1b64d2ba53bc576c0288ebacbcdbc339d308170d8e
size 21400
